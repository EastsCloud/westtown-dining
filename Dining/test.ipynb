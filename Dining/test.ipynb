{
 "cells": [
  {
   "cell_type": "code",
   "execution_count": 17,
   "id": "f36da711",
   "metadata": {},
   "outputs": [
    {
     "name": "stderr",
     "output_type": "stream",
     "text": [
      "CropBox missing from /Page, defaulting to MediaBox\n",
      "CropBox missing from /Page, defaulting to MediaBox\n",
      "CropBox missing from /Page, defaulting to MediaBox\n",
      "CropBox missing from /Page, defaulting to MediaBox\n"
     ]
    },
    {
     "data": {
      "text/plain": [
       "['Blueberry\\npancakes, eggs,\\npotatoes, syrup',\n",
       " 'Chefs choice wraps\\nChefs choice soup\\nChips\\nChicken caesar\\nwrap\\nSoup du jour\\nPaul to fill in',\n",
       " 'X',\n",
       " 'Tex-Mex baby back\\nribs adobo\\nAdobo\\nCilantro lime rice\\ncornbread muffins\\nVegan option\\nRice']"
      ]
     },
     "execution_count": 17,
     "metadata": {},
     "output_type": "execute_result"
    }
   ],
   "source": [
    "import requests\n",
    "import pdfplumber\n",
    "from io import BytesIO\n",
    "\n",
    "url = \"https://westtown.myschoolapp.com/ftpimages/1579/download/download_3308593.pdf?_=1726155235069\"\n",
    "response = requests.get(url)\n",
    "pdf_file = BytesIO(response.content)\n",
    "\n",
    "list = []\n",
    "\n",
    "with pdfplumber.open(pdf_file) as pdf:\n",
    "    for i, page in enumerate(pdf.pages):\n",
    "        table = page.extract_table()\n",
    "        if table:\n",
    "            for row in table:\n",
    "                list.append(row)\n",
    "\n",
    "day = 6\n",
    "day_list = []\n",
    "\n",
    "for i in range (1, len(list)):\n",
    "    day_list.append(list[i][day])\n",
    "\n",
    "day_list"
   ]
  }
 ],
 "metadata": {
  "kernelspec": {
   "display_name": "Python 3",
   "language": "python",
   "name": "python3"
  },
  "language_info": {
   "codemirror_mode": {
    "name": "ipython",
    "version": 3
   },
   "file_extension": ".py",
   "mimetype": "text/x-python",
   "name": "python",
   "nbconvert_exporter": "python",
   "pygments_lexer": "ipython3",
   "version": "3.11.11"
  }
 },
 "nbformat": 4,
 "nbformat_minor": 5
}
